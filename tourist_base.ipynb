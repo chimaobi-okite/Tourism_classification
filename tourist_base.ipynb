{
  "nbformat": 4,
  "nbformat_minor": 0,
  "metadata": {
    "colab": {
      "name": "tourist_base.ipynb",
      "provenance": [],
      "authorship_tag": "ABX9TyMiNKKY3kqQNlawpkcIcZc4",
      "include_colab_link": true
    },
    "kernelspec": {
      "name": "python3",
      "display_name": "Python 3"
    },
    "language_info": {
      "name": "python"
    }
  },
  "cells": [
    {
      "cell_type": "markdown",
      "metadata": {
        "id": "view-in-github",
        "colab_type": "text"
      },
      "source": [
        "<a href=\"https://colab.research.google.com/github/chimaobi-okite/Tourism_classification/blob/main/tourist_base.ipynb\" target=\"_parent\"><img src=\"https://colab.research.google.com/assets/colab-badge.svg\" alt=\"Open In Colab\"/></a>"
      ]
    },
    {
      "cell_type": "markdown",
      "source": [
        "### Lets Build A Base Xgbosst model without any feature engineering and parameter tuning,.\n",
        "\n",
        "Note: xgboost handles missing values for us.\n"
      ],
      "metadata": {
        "id": "EZNeU9TL34oF"
      }
    },
    {
      "cell_type": "markdown",
      "source": [
        "Import the necessary libraries"
      ],
      "metadata": {
        "id": "rQgO6dmN6hg5"
      }
    },
    {
      "cell_type": "code",
      "execution_count": 1,
      "metadata": {
        "id": "gw9EnMFg6Jaw"
      },
      "outputs": [],
      "source": [
        "import numpy as np\n",
        "import pandas as pd\n",
        "import matplotlib.pyplot as plt\n",
        "import seaborn as sns\n",
        "from sklearn.metrics import log_loss, accuracy_score\n",
        "from sklearn.model_selection import train_test_split, cross_val_score\n",
        "import xgboost as xgb"
      ]
    },
    {
      "cell_type": "code",
      "source": [
        "train = pd.read_csv('https://raw.githubusercontent.com/chimaobi-okite/Tourism_classification/main/Train.csv')\n",
        "test = pd.read_csv('https://raw.githubusercontent.com/chimaobi-okite/Tourism_classification/main/Test.csv')\n",
        "var_def = pd.read_csv('https://raw.githubusercontent.com/chimaobi-okite/Tourism_classification/main/VariableDefinitions.csv')\n",
        "ss = pd.read_csv('https://raw.githubusercontent.com/chimaobi-okite/Tourism_classification/main/SampleSubmission.csv')"
      ],
      "metadata": {
        "id": "D6yjfjhL7hyT"
      },
      "execution_count": 2,
      "outputs": []
    },
    {
      "cell_type": "code",
      "source": [
        "## divide the dataset into features and target\n",
        "X, y = train.drop(['cost_category','Tour_ID', 'country'], axis =1), train['cost_category']\n",
        "## get onehot encoding of catgorical variable\n",
        "X = pd.get_dummies(X)\n",
        "X = X.rename(columns= {'age_group_65+':'age_group_65_plus','age_group_<18':'age_group_18_less'})\n",
        "## get label categories\n",
        "targets = {'Lower Cost':1, 'Low Cost':2, 'Normal Cost':3, 'High Cost': 4,'Higher Cost': 5, 'Highest Cost' : 6}\n",
        "y = y.map(targets)\n",
        "## split data to train and test set\n",
        "X_train, X_test, y_train, y_test = train_test_split(X, y, test_size=0.2, random_state=42)"
      ],
      "metadata": {
        "id": "NcXE5_KV7r8x"
      },
      "execution_count": 3,
      "outputs": []
    },
    {
      "cell_type": "code",
      "source": [
        "## function to validate data\n",
        "def validate( estimator, X, y,cv = 5):\n",
        "  scores = cross_val_score(estimator= estimator, X =X, y = y, cv = cv, scoring = 'neg_log_loss')\n",
        "  return scores.mean(), scores.std()"
      ],
      "metadata": {
        "id": "-xlY4oucAEYo"
      },
      "execution_count": 4,
      "outputs": []
    },
    {
      "cell_type": "code",
      "source": [
        "## validate xgbclassifier\n",
        "model = xgb.XGBClassifier(seed = 42)\n",
        "validate(model, X_train, y_train, cv = 3)"
      ],
      "metadata": {
        "colab": {
          "base_uri": "https://localhost:8080/"
        },
        "id": "JVB18zcnAxDW",
        "outputId": "83e80137-8fb9-468b-b3d1-ffde0c5ba206"
      },
      "execution_count": 5,
      "outputs": [
        {
          "output_type": "execute_result",
          "data": {
            "text/plain": [
              "(-1.1255563513095836, 0.00938884627205457)"
            ]
          },
          "metadata": {},
          "execution_count": 5
        }
      ]
    },
    {
      "cell_type": "code",
      "source": [
        "## fit on the train dataset and make prediction on validation data\n",
        "model.fit(X_train, y_train)\n",
        "model.predict(X_test)"
      ],
      "metadata": {
        "colab": {
          "base_uri": "https://localhost:8080/"
        },
        "id": "ac34XVdtCIS8",
        "outputId": "630945b5-1fa6-4333-8cc7-1b02a272d823"
      },
      "execution_count": 6,
      "outputs": [
        {
          "output_type": "execute_result",
          "data": {
            "text/plain": [
              "array([3, 4, 3, ..., 3, 3, 3])"
            ]
          },
          "metadata": {},
          "execution_count": 6
        }
      ]
    },
    {
      "cell_type": "code",
      "source": [
        "log_loss(y_test, model.predict_proba(X_test))"
      ],
      "metadata": {
        "colab": {
          "base_uri": "https://localhost:8080/"
        },
        "id": "TWQ1ncmZEGSw",
        "outputId": "515e9fbe-cdb9-47cc-f45d-8a1f4f07cfe1"
      },
      "execution_count": 7,
      "outputs": [
        {
          "output_type": "execute_result",
          "data": {
            "text/plain": [
              "1.1340957496582915"
            ]
          },
          "metadata": {},
          "execution_count": 7
        }
      ]
    },
    {
      "cell_type": "code",
      "source": [
        "model.predict_proba(X_test)"
      ],
      "metadata": {
        "colab": {
          "base_uri": "https://localhost:8080/"
        },
        "id": "E_uYKRQiEaKG",
        "outputId": "a5af21eb-e79e-42d1-9d19-f50927253980"
      },
      "execution_count": 8,
      "outputs": [
        {
          "output_type": "execute_result",
          "data": {
            "text/plain": [
              "array([[0.02365559, 0.04270338, 0.53979343, 0.31985626, 0.07047925,\n",
              "        0.0035121 ],\n",
              "       [0.03146512, 0.03559174, 0.31712335, 0.39455462, 0.21020362,\n",
              "        0.01106159],\n",
              "       [0.02649378, 0.0617263 , 0.6338786 , 0.17008914, 0.10249326,\n",
              "        0.00531895],\n",
              "       ...,\n",
              "       [0.2996721 , 0.20697536, 0.4342054 , 0.03396275, 0.02328528,\n",
              "        0.00189909],\n",
              "       [0.16746572, 0.28660786, 0.4599189 , 0.06094865, 0.02244411,\n",
              "        0.00261475],\n",
              "       [0.31262612, 0.14112748, 0.49992508, 0.02867302, 0.0165468 ,\n",
              "        0.00110148]], dtype=float32)"
            ]
          },
          "metadata": {},
          "execution_count": 8
        }
      ]
    },
    {
      "cell_type": "markdown",
      "source": [
        "### Making First Submission"
      ],
      "metadata": {
        "id": "KYT-SQv0FMFo"
      }
    },
    {
      "cell_type": "code",
      "source": [
        "## train model on all dataset\n",
        "model.fit(X, y)"
      ],
      "metadata": {
        "colab": {
          "base_uri": "https://localhost:8080/"
        },
        "id": "EFmSb8X5FdN1",
        "outputId": "b1c78a31-4c4f-4dcf-f648-dcc941f74889"
      },
      "execution_count": 9,
      "outputs": [
        {
          "output_type": "execute_result",
          "data": {
            "text/plain": [
              "XGBClassifier(objective='multi:softprob', seed=42)"
            ]
          },
          "metadata": {},
          "execution_count": 9
        }
      ]
    },
    {
      "cell_type": "code",
      "source": [
        "t = test.drop(['Tour_ID', 'country'], axis =1)\n",
        "t = pd.get_dummies(t)\n",
        "t = t.rename(columns= {'age_group_65+':'age_group_65_plus','age_group_<18':'age_group_18_less'})"
      ],
      "metadata": {
        "id": "r05M8Z2HFcTf"
      },
      "execution_count": 10,
      "outputs": []
    },
    {
      "cell_type": "code",
      "source": [
        "preds = model.predict_proba(t)"
      ],
      "metadata": {
        "id": "qLmTU_F3Fyw4"
      },
      "execution_count": 11,
      "outputs": []
    },
    {
      "cell_type": "code",
      "source": [
        "sub_df = pd.DataFrame({'Tour_ID':test['Tour_ID'], 'High Cost': preds[:,3],'Higher Cost': preds[:,4],'Highest Cost': preds[:,5],'Low Cost': preds[:,1],'Lower Cost': preds[:,0],'Normal Cost' :preds[:,2]})\n",
        "sub_df.to_csv('base_submission',index = False)"
      ],
      "metadata": {
        "id": "VrVXxWnDF3YD"
      },
      "execution_count": 12,
      "outputs": []
    },
    {
      "cell_type": "code",
      "source": [
        "sub_df\n"
      ],
      "metadata": {
        "colab": {
          "base_uri": "https://localhost:8080/",
          "height": 424
        },
        "id": "NHT5MZkjIud4",
        "outputId": "ce8ce96d-e2a2-4eed-dbbc-afb161d6957f"
      },
      "execution_count": 13,
      "outputs": [
        {
          "output_type": "execute_result",
          "data": {
            "text/plain": [
              "              Tour_ID  High Cost  Higher Cost  Highest Cost  Low Cost  \\\n",
              "0     tour_idynufedne   0.150030     0.055474      0.002302  0.091114   \n",
              "1     tour_id9r3y5moe   0.206949     0.633271      0.044926  0.009177   \n",
              "2     tour_idf6itml6g   0.543361     0.255564      0.033310  0.018804   \n",
              "3     tour_id99u4znru   0.058476     0.026701      0.001667  0.266618   \n",
              "4     tour_idj4i9urbx   0.037634     0.016211      0.001198  0.162799   \n",
              "...               ...        ...          ...           ...       ...   \n",
              "6164  tour_id2deyfjhq   0.018498     0.007191      0.000820  0.239637   \n",
              "6165  tour_idlenv2rio   0.113247     0.055356      0.000969  0.149418   \n",
              "6166  tour_id7wwqrs0p   0.375789     0.136180      0.017687  0.031698   \n",
              "6167  tour_idx80vbw5a   0.109685     0.031070      0.001428  0.167991   \n",
              "6168  tour_id8fkkwytb   0.028343     0.015131      0.001029  0.222262   \n",
              "\n",
              "      Lower Cost  Normal Cost  \n",
              "0       0.037461     0.663619  \n",
              "1       0.012033     0.093644  \n",
              "2       0.008628     0.140333  \n",
              "3       0.137878     0.508660  \n",
              "4       0.224862     0.557296  \n",
              "...          ...          ...  \n",
              "6164    0.509637     0.224218  \n",
              "6165    0.290790     0.390220  \n",
              "6166    0.036242     0.402404  \n",
              "6167    0.262409     0.427417  \n",
              "6168    0.314232     0.419004  \n",
              "\n",
              "[6169 rows x 7 columns]"
            ],
            "text/html": [
              "\n",
              "  <div id=\"df-09bff755-eaa8-4b6a-916c-21d64eef77dd\">\n",
              "    <div class=\"colab-df-container\">\n",
              "      <div>\n",
              "<style scoped>\n",
              "    .dataframe tbody tr th:only-of-type {\n",
              "        vertical-align: middle;\n",
              "    }\n",
              "\n",
              "    .dataframe tbody tr th {\n",
              "        vertical-align: top;\n",
              "    }\n",
              "\n",
              "    .dataframe thead th {\n",
              "        text-align: right;\n",
              "    }\n",
              "</style>\n",
              "<table border=\"1\" class=\"dataframe\">\n",
              "  <thead>\n",
              "    <tr style=\"text-align: right;\">\n",
              "      <th></th>\n",
              "      <th>Tour_ID</th>\n",
              "      <th>High Cost</th>\n",
              "      <th>Higher Cost</th>\n",
              "      <th>Highest Cost</th>\n",
              "      <th>Low Cost</th>\n",
              "      <th>Lower Cost</th>\n",
              "      <th>Normal Cost</th>\n",
              "    </tr>\n",
              "  </thead>\n",
              "  <tbody>\n",
              "    <tr>\n",
              "      <th>0</th>\n",
              "      <td>tour_idynufedne</td>\n",
              "      <td>0.150030</td>\n",
              "      <td>0.055474</td>\n",
              "      <td>0.002302</td>\n",
              "      <td>0.091114</td>\n",
              "      <td>0.037461</td>\n",
              "      <td>0.663619</td>\n",
              "    </tr>\n",
              "    <tr>\n",
              "      <th>1</th>\n",
              "      <td>tour_id9r3y5moe</td>\n",
              "      <td>0.206949</td>\n",
              "      <td>0.633271</td>\n",
              "      <td>0.044926</td>\n",
              "      <td>0.009177</td>\n",
              "      <td>0.012033</td>\n",
              "      <td>0.093644</td>\n",
              "    </tr>\n",
              "    <tr>\n",
              "      <th>2</th>\n",
              "      <td>tour_idf6itml6g</td>\n",
              "      <td>0.543361</td>\n",
              "      <td>0.255564</td>\n",
              "      <td>0.033310</td>\n",
              "      <td>0.018804</td>\n",
              "      <td>0.008628</td>\n",
              "      <td>0.140333</td>\n",
              "    </tr>\n",
              "    <tr>\n",
              "      <th>3</th>\n",
              "      <td>tour_id99u4znru</td>\n",
              "      <td>0.058476</td>\n",
              "      <td>0.026701</td>\n",
              "      <td>0.001667</td>\n",
              "      <td>0.266618</td>\n",
              "      <td>0.137878</td>\n",
              "      <td>0.508660</td>\n",
              "    </tr>\n",
              "    <tr>\n",
              "      <th>4</th>\n",
              "      <td>tour_idj4i9urbx</td>\n",
              "      <td>0.037634</td>\n",
              "      <td>0.016211</td>\n",
              "      <td>0.001198</td>\n",
              "      <td>0.162799</td>\n",
              "      <td>0.224862</td>\n",
              "      <td>0.557296</td>\n",
              "    </tr>\n",
              "    <tr>\n",
              "      <th>...</th>\n",
              "      <td>...</td>\n",
              "      <td>...</td>\n",
              "      <td>...</td>\n",
              "      <td>...</td>\n",
              "      <td>...</td>\n",
              "      <td>...</td>\n",
              "      <td>...</td>\n",
              "    </tr>\n",
              "    <tr>\n",
              "      <th>6164</th>\n",
              "      <td>tour_id2deyfjhq</td>\n",
              "      <td>0.018498</td>\n",
              "      <td>0.007191</td>\n",
              "      <td>0.000820</td>\n",
              "      <td>0.239637</td>\n",
              "      <td>0.509637</td>\n",
              "      <td>0.224218</td>\n",
              "    </tr>\n",
              "    <tr>\n",
              "      <th>6165</th>\n",
              "      <td>tour_idlenv2rio</td>\n",
              "      <td>0.113247</td>\n",
              "      <td>0.055356</td>\n",
              "      <td>0.000969</td>\n",
              "      <td>0.149418</td>\n",
              "      <td>0.290790</td>\n",
              "      <td>0.390220</td>\n",
              "    </tr>\n",
              "    <tr>\n",
              "      <th>6166</th>\n",
              "      <td>tour_id7wwqrs0p</td>\n",
              "      <td>0.375789</td>\n",
              "      <td>0.136180</td>\n",
              "      <td>0.017687</td>\n",
              "      <td>0.031698</td>\n",
              "      <td>0.036242</td>\n",
              "      <td>0.402404</td>\n",
              "    </tr>\n",
              "    <tr>\n",
              "      <th>6167</th>\n",
              "      <td>tour_idx80vbw5a</td>\n",
              "      <td>0.109685</td>\n",
              "      <td>0.031070</td>\n",
              "      <td>0.001428</td>\n",
              "      <td>0.167991</td>\n",
              "      <td>0.262409</td>\n",
              "      <td>0.427417</td>\n",
              "    </tr>\n",
              "    <tr>\n",
              "      <th>6168</th>\n",
              "      <td>tour_id8fkkwytb</td>\n",
              "      <td>0.028343</td>\n",
              "      <td>0.015131</td>\n",
              "      <td>0.001029</td>\n",
              "      <td>0.222262</td>\n",
              "      <td>0.314232</td>\n",
              "      <td>0.419004</td>\n",
              "    </tr>\n",
              "  </tbody>\n",
              "</table>\n",
              "<p>6169 rows × 7 columns</p>\n",
              "</div>\n",
              "      <button class=\"colab-df-convert\" onclick=\"convertToInteractive('df-09bff755-eaa8-4b6a-916c-21d64eef77dd')\"\n",
              "              title=\"Convert this dataframe to an interactive table.\"\n",
              "              style=\"display:none;\">\n",
              "        \n",
              "  <svg xmlns=\"http://www.w3.org/2000/svg\" height=\"24px\"viewBox=\"0 0 24 24\"\n",
              "       width=\"24px\">\n",
              "    <path d=\"M0 0h24v24H0V0z\" fill=\"none\"/>\n",
              "    <path d=\"M18.56 5.44l.94 2.06.94-2.06 2.06-.94-2.06-.94-.94-2.06-.94 2.06-2.06.94zm-11 1L8.5 8.5l.94-2.06 2.06-.94-2.06-.94L8.5 2.5l-.94 2.06-2.06.94zm10 10l.94 2.06.94-2.06 2.06-.94-2.06-.94-.94-2.06-.94 2.06-2.06.94z\"/><path d=\"M17.41 7.96l-1.37-1.37c-.4-.4-.92-.59-1.43-.59-.52 0-1.04.2-1.43.59L10.3 9.45l-7.72 7.72c-.78.78-.78 2.05 0 2.83L4 21.41c.39.39.9.59 1.41.59.51 0 1.02-.2 1.41-.59l7.78-7.78 2.81-2.81c.8-.78.8-2.07 0-2.86zM5.41 20L4 18.59l7.72-7.72 1.47 1.35L5.41 20z\"/>\n",
              "  </svg>\n",
              "      </button>\n",
              "      \n",
              "  <style>\n",
              "    .colab-df-container {\n",
              "      display:flex;\n",
              "      flex-wrap:wrap;\n",
              "      gap: 12px;\n",
              "    }\n",
              "\n",
              "    .colab-df-convert {\n",
              "      background-color: #E8F0FE;\n",
              "      border: none;\n",
              "      border-radius: 50%;\n",
              "      cursor: pointer;\n",
              "      display: none;\n",
              "      fill: #1967D2;\n",
              "      height: 32px;\n",
              "      padding: 0 0 0 0;\n",
              "      width: 32px;\n",
              "    }\n",
              "\n",
              "    .colab-df-convert:hover {\n",
              "      background-color: #E2EBFA;\n",
              "      box-shadow: 0px 1px 2px rgba(60, 64, 67, 0.3), 0px 1px 3px 1px rgba(60, 64, 67, 0.15);\n",
              "      fill: #174EA6;\n",
              "    }\n",
              "\n",
              "    [theme=dark] .colab-df-convert {\n",
              "      background-color: #3B4455;\n",
              "      fill: #D2E3FC;\n",
              "    }\n",
              "\n",
              "    [theme=dark] .colab-df-convert:hover {\n",
              "      background-color: #434B5C;\n",
              "      box-shadow: 0px 1px 3px 1px rgba(0, 0, 0, 0.15);\n",
              "      filter: drop-shadow(0px 1px 2px rgba(0, 0, 0, 0.3));\n",
              "      fill: #FFFFFF;\n",
              "    }\n",
              "  </style>\n",
              "\n",
              "      <script>\n",
              "        const buttonEl =\n",
              "          document.querySelector('#df-09bff755-eaa8-4b6a-916c-21d64eef77dd button.colab-df-convert');\n",
              "        buttonEl.style.display =\n",
              "          google.colab.kernel.accessAllowed ? 'block' : 'none';\n",
              "\n",
              "        async function convertToInteractive(key) {\n",
              "          const element = document.querySelector('#df-09bff755-eaa8-4b6a-916c-21d64eef77dd');\n",
              "          const dataTable =\n",
              "            await google.colab.kernel.invokeFunction('convertToInteractive',\n",
              "                                                     [key], {});\n",
              "          if (!dataTable) return;\n",
              "\n",
              "          const docLinkHtml = 'Like what you see? Visit the ' +\n",
              "            '<a target=\"_blank\" href=https://colab.research.google.com/notebooks/data_table.ipynb>data table notebook</a>'\n",
              "            + ' to learn more about interactive tables.';\n",
              "          element.innerHTML = '';\n",
              "          dataTable['output_type'] = 'display_data';\n",
              "          await google.colab.output.renderOutput(dataTable, element);\n",
              "          const docLink = document.createElement('div');\n",
              "          docLink.innerHTML = docLinkHtml;\n",
              "          element.appendChild(docLink);\n",
              "        }\n",
              "      </script>\n",
              "    </div>\n",
              "  </div>\n",
              "  "
            ]
          },
          "metadata": {},
          "execution_count": 13
        }
      ]
    },
    {
      "cell_type": "markdown",
      "source": [
        "position 72"
      ],
      "metadata": {
        "id": "IszjRkvAKSxs"
      }
    },
    {
      "cell_type": "code",
      "source": [
        ""
      ],
      "metadata": {
        "id": "HO9GmuMJI5ZP"
      },
      "execution_count": 13,
      "outputs": []
    }
  ]
}